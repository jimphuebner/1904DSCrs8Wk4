{
 "cells": [
  {
   "cell_type": "markdown",
   "metadata": {},
   "source": [
    "# Data Science Capstone Part A  \n",
    "## Introduction\n",
    "This project seeks to identify health-conscious neighbourhoods in Toronto that may be under-served by healthy quick-serve restaurants (QSRs) and sit-in food options.  \n",
    "\n",
    "### Business Problem\n",
    "   Demand for healthy food is growing. Healthy food chains are emerging to attempt to meet the demand for low-calorie ingredients and fresh produce.(1)  \n",
    "   The challenge for the restaurant industry is balancing a variety of demand factors that sometimes compete, for example genuinely healthy and organic foods and low cost.(2)   \n",
    "    Selections for new venue locations must target and effectively service the demand in health-conscious neighbourhoods. This project seeks to explore data insights specifically to identify restaurant location in health-conscious neighbourhoods in Toronto that may be under-served by existing venues. \n",
    "\n",
    "### Audience & Stakeholders\n",
    "The audience for this project is restauranteurs, investors and anyone servicing the QSR and sit-in food segments. These stakeholders have a vested interest in responding to market demand by making investment and operations decisions based on data insights. This project explores some of those data insights specific to venue location.  \n",
    "\n",
    "### Notes\n",
    "(1) 2017. Garfield, Leanna. “American fast food as we know it is dying — and healthier chains may be replacing it.“ Business Insider, November 2017. Available at https://www.businessinsider.com/future-of-fast-food-healthy-affordable-2017-11.\n",
    "\n",
    "(2) 2017. Hardy, Kevin. “9 Fast Food Trends for 2018.” QSR, December 2017. Available at https://www.qsrmagazine.com/exclusives/9-fast-food-trends-2018."
   ]
  },
  {
   "cell_type": "code",
   "execution_count": null,
   "metadata": {},
   "outputs": [],
   "source": []
  }
 ],
 "metadata": {
  "kernelspec": {
   "display_name": "Python 3",
   "language": "python",
   "name": "python3"
  },
  "language_info": {
   "codemirror_mode": {
    "name": "ipython",
    "version": 3
   },
   "file_extension": ".py",
   "mimetype": "text/x-python",
   "name": "python",
   "nbconvert_exporter": "python",
   "pygments_lexer": "ipython3",
   "version": "3.6.8"
  }
 },
 "nbformat": 4,
 "nbformat_minor": 2
}
